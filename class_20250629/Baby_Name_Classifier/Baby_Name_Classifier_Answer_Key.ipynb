{
 "cells": [
  {
   "cell_type": "markdown",
   "metadata": {
    "deletable": false,
    "editable": false,
    "nbgrader": {
     "checksum": "b2969e560496bd8105480ba5dac81391",
     "grade": false,
     "grade_id": "cell-3baa72d698526cb5",
     "locked": true,
     "schema_version": 1,
     "solution": false
    }
   },
   "source": [
    "<h2>About this Project</h2>\n",
    "<p>In this project, you will use naive bayes to build a baby name classifier. Your classifier will use the features commonly found in names to distinguish whether a name is likely to be given to a baby girl or boy. You'll train your classifier to identify these certain qualities of names and classify new examples based on those qualities.</p>"
   ]
  },
  {
   "cell_type": "markdown",
   "metadata": {
    "deletable": false,
    "editable": false,
    "nbgrader": {
     "checksum": "49a4a4566d4ab67c17f89c8d79fb29a4",
     "grade": false,
     "grade_id": "cell-30dffab85bf9ce51",
     "locked": true,
     "schema_version": 1,
     "solution": false
    }
   },
   "source": [
    "<h2>Getting Started</h2>\n",
    "<h3>Prepare Text for Machine Learning </h3>\n",
    "\n",
    "<p> If we are to create a classifier for text, we'll first need to think about the format of our data. Take a look at the files <code>girls.train</code> and <code>boys.train</code>. For example with the unix command: <pre>cat girls.train</pre> \n",
    "<pre>\n",
    "...\n",
    "Addisyn\n",
    "Danika\n",
    "Emilee\n",
    "Aurora\n",
    "Julianna\n",
    "Sophia\n",
    "Kaylyn\n",
    "Litzy\n",
    "Hadassah\n",
    "</pre>\n",
    "This file contains names that are more or less commonly used for girls. The problem with the current data in this file is that the names are in plain text, which is not a format our machine learning algorithm can work with effectively. You need to transform these plain text names into some vector format, where each name becomes a vector that represents a point in some high dimensional input space. </p>\n",
    "\n",
    "<p>That is exactly what the following Python function <code>name2features</code> does, by arbitrarily chunking and hashing different string extractions from each baby name inputted, thus transforming the string into a quantitative feature vector:</p>"
   ]
  },
  {
   "cell_type": "markdown",
   "metadata": {
    "deletable": false,
    "editable": false,
    "nbgrader": {
     "checksum": "dbf63747338c3bc801a52729939be2b7",
     "grade": false,
     "grade_id": "cell-714117928030f1f1",
     "locked": true,
     "schema_version": 1,
     "solution": false
    }
   },
   "source": [
    "<h3>Python Initialization</h3>\n",
    "<p>Please run the following code to initialize your Python kernel. You should be running a version of Python 3.x.<p>"
   ]
  },
  {
   "cell_type": "code",
   "execution_count": null,
   "metadata": {
    "deletable": false,
    "editable": false,
    "nbgrader": {
     "checksum": "9b7875183d29e111c4447b054bb724a4",
     "grade": false,
     "grade_id": "cell-18a2bc2f691a85d9",
     "locked": true,
     "schema_version": 1,
     "solution": false
    }
   },
   "outputs": [
    {
     "name": "stdout",
     "output_type": "stream",
     "text": [
      "You're running python 3.6.8\n"
     ]
    }
   ],
   "source": [
    "import numpy as np\n",
    "import sys\n",
    "sys.path.append('./class_20250629/Baby_Name_Classifier')\n",
    "\n",
    "\n",
    "%matplotlib inline\n",
    "print('You\\'re running python %s' % sys.version.split(' ')[0])\n",
    "\n",
    "def runtest(a, b):\n",
    "    print(f\"Running test {b}...    Result: {'Passed ✅' if a() else 'Failed 😞'}\")"
   ]
  },
  {
   "cell_type": "markdown",
   "metadata": {
    "deletable": false,
    "editable": false,
    "nbgrader": {
     "checksum": "73d7ace595c636f6af1c0c54d9091952",
     "grade": false,
     "grade_id": "cell-39c6afaee8154fa0",
     "locked": true,
     "schema_version": 1,
     "solution": false
    }
   },
   "source": [
    "<h3>The <code>hashfeatures</code> and <code>name2features</code> Functions</h3>\n",
    "<p>Below, the <code>hashfeatures</code> and <code>name2features</code> functions will take the plain text names and convert them to feature vectors so that you'll be able to work with the data effectively.  "
   ]
  },
  {
   "cell_type": "code",
   "execution_count": 2,
   "metadata": {
    "deletable": false,
    "editable": false,
    "nbgrader": {
     "checksum": "b10d2fe91c6cf8c951e25fb196052154",
     "grade": false,
     "grade_id": "cell-1e080d9347c9d997",
     "locked": true,
     "schema_version": 1,
     "solution": false
    }
   },
   "outputs": [],
   "source": [
    "def hashfeatures(baby, B, FIX):\n",
    "    \"\"\"\n",
    "    Input:\n",
    "        baby : a string representing the baby's name to be hashed\n",
    "        B: the number of dimensions to be in the feature vector\n",
    "        FIX: the number of chunks to extract and hash from each string\n",
    "    \n",
    "    Output:\n",
    "        v: a feature vector representing the input string\n",
    "    \"\"\"\n",
    "    v = np.zeros(B)\n",
    "    for m in range(FIX):\n",
    "        featurestring = \"prefix\" + baby[:m]\n",
    "        v[hash(featurestring) % B] = 1\n",
    "        featurestring = \"suffix\" + baby[-1*m:]\n",
    "        v[hash(featurestring) % B] = 1\n",
    "    return v\n"
   ]
  },
  {
   "cell_type": "markdown",
   "metadata": {},
   "source": [
    "Should we be concerned by collisions when FIX is larger than B? Also there's a useless feature string for m=0"
   ]
  },
  {
   "cell_type": "code",
   "execution_count": 3,
   "metadata": {
    "deletable": false,
    "editable": false,
    "nbgrader": {
     "checksum": "a1bfccfe5e69c2936d946537fc9fbbb0",
     "grade": false,
     "grade_id": "cell-1809ceffa163f422",
     "locked": true,
     "schema_version": 1,
     "solution": false
    }
   },
   "outputs": [],
   "source": [
    "def name2features(filename, B=128, FIX=3, LoadFile=True):\n",
    "    \"\"\"\n",
    "    Output:\n",
    "        X : n feature vectors of dimension B, (nxB)\n",
    "    \"\"\"\n",
    "    # read in baby names\n",
    "    if LoadFile:\n",
    "        with open(filename, 'r') as f:\n",
    "            babynames = [x.rstrip() for x in f.readlines() if len(x) > 0]\n",
    "    else:\n",
    "        babynames = filename.split('\\n')\n",
    "    n = len(babynames)\n",
    "    X = np.zeros((n, B))\n",
    "    for i in range(n):\n",
    "        X[i,:] = hashfeatures(babynames[i], B, FIX)\n",
    "    return X"
   ]
  },
  {
   "cell_type": "markdown",
   "metadata": {
    "deletable": false,
    "editable": false,
    "nbgrader": {
     "checksum": "6d3d3cdfda91d8dabf6c2a98d57b87ea",
     "grade": false,
     "grade_id": "cell-844dbe02c2f5bdc3",
     "locked": true,
     "schema_version": 1,
     "solution": false
    }
   },
   "source": [
    "<p>In the code cell above, <code>name2features</code> reads every name in the given file and converts it into a 128-dimensional feature vector by first assembling substrings (based on the parameter 'FIX'), then hashing these assembled substrings and modifying the feature vector index (the modulo of the number of dimensions) that corresponds to this hash value. </p> \n",
    "\n",
    "<p>Can you see how the feature vector for each name changes with different parameters? (Understanding how these features are constructed will help you later on in the challenge.)<br></p>"
   ]
  },
  {
   "cell_type": "markdown",
   "metadata": {
    "deletable": false,
    "editable": false,
    "nbgrader": {
     "checksum": "39280620b8cbeb29243b217c8a785fcb",
     "grade": false,
     "grade_id": "cell-e96f9a3b1bc1cbe9",
     "locked": true,
     "schema_version": 1,
     "solution": false
    }
   },
   "source": [
    "<h3>The <code>genTrainFeatures</code> Function</h3>\n",
    "<p>We have provided you with a python function <code>genTrainFeatures</code>, which transforms the names into features and loads them into memory. "
   ]
  },
  {
   "cell_type": "code",
   "execution_count": 4,
   "metadata": {
    "deletable": false,
    "editable": false,
    "nbgrader": {
     "checksum": "11513197aef0a07a5672f0439274c519",
     "grade": false,
     "grade_id": "cell-0b3fe702eadc1daa",
     "locked": true,
     "schema_version": 1,
     "solution": false
    }
   },
   "outputs": [],
   "source": [
    "def genTrainFeatures(dimension=128):\n",
    "    \"\"\"\n",
    "    Input: \n",
    "        dimension: desired dimension of the features\n",
    "    Output: \n",
    "        X: n feature vectors of dimensionality d (nxd)\n",
    "        Y: n labels (-1 = girl, +1 = boy) (n)\n",
    "    \"\"\"\n",
    "    \n",
    "    # Load in the data\n",
    "    Xgirls = name2features(\"girls.train\", B=dimension)\n",
    "    Xboys = name2features(\"boys.train\", B=dimension)\n",
    "    X = np.concatenate([Xgirls, Xboys])\n",
    "    \n",
    "    # Generate Labels\n",
    "    Y = np.concatenate([-np.ones(len(Xgirls)), np.ones(len(Xboys))])\n",
    "    \n",
    "    # shuffle data into random order\n",
    "    ii = np.random.permutation([i for i in range(len(Y))])\n",
    "    \n",
    "    return X[ii, :], Y[ii]"
   ]
  },
  {
   "cell_type": "markdown",
   "metadata": {
    "deletable": false,
    "editable": false,
    "nbgrader": {
     "checksum": "d84c7f22eac848b1a64b816dadaec379",
     "grade": false,
     "grade_id": "cell-f76be5bf3de52f69",
     "locked": true,
     "schema_version": 1,
     "solution": false
    }
   },
   "source": [
    "<p>You can call the following command to return two vectors, one holding all the concatenated feature vectors and one holding the labels of all boys and girls names.</p>"
   ]
  },
  {
   "cell_type": "code",
   "execution_count": 5,
   "metadata": {
    "deletable": false,
    "editable": false,
    "nbgrader": {
     "checksum": "4c75cfe6a4bb0a50aa8a2476f0bffe01",
     "grade": false,
     "grade_id": "cell-34b753329d722dbb",
     "locked": true,
     "schema_version": 1,
     "solution": false
    }
   },
   "outputs": [],
   "source": [
    "X, Y = genTrainFeatures(128)"
   ]
  },
  {
   "cell_type": "markdown",
   "metadata": {
    "deletable": false,
    "editable": false,
    "nbgrader": {
     "checksum": "6601f8020f99537f8a4156b4837302da",
     "grade": false,
     "grade_id": "cell-8ec662b973a6ef03",
     "locked": true,
     "schema_version": 1,
     "solution": false
    }
   },
   "source": [
    "<h2> The Na&iuml;ve Bayes Classifier </h2>\n",
    "\n",
    "<p> The Na&iuml;ve Bayes classifier is a linear classifier based on Bayes Rule. The following cells will walk you through steps and ask you to finish the necessary functions in a pre-defined order. <strong>As a general rule, you should avoid tight loops at all costs.</strong></p>"
   ]
  },
  {
   "cell_type": "markdown",
   "metadata": {
    "deletable": false,
    "editable": false,
    "nbgrader": {
     "checksum": "51c6d345ce0432218bd94a7ee3ae56c5",
     "grade": false,
     "grade_id": "cell-e91e263ce575ecdf",
     "locked": true,
     "schema_version": 1,
     "solution": false
    }
   },
   "source": [
    "<h3>Part One: Class Probability [Graded]</h3>\n",
    "<i>\n",
    "<p>Estimate the class probability $P(y)$ in \n",
    "<b><code>naivebayesPY</code></b>. This should return the probability that a sample in the training set is positive or negative, independent of its features.\n",
    "</p>\n",
    "</i>"
   ]
  },
  {
   "cell_type": "code",
   "execution_count": 6,
   "metadata": {
    "deletable": false,
    "nbgrader": {
     "checksum": "8b9b66ef6549826bae77cb5416e97dc0",
     "grade": false,
     "grade_id": "cell-naivebayesPY",
     "locked": false,
     "schema_version": 1,
     "solution": true
    }
   },
   "outputs": [],
   "source": [
    "def naivebayesPY(X, Y):\n",
    "    \"\"\"\n",
    "    naivebayesPY(Y) returns [pos,neg]\n",
    "\n",
    "    Computation of P(Y)\n",
    "    Input:\n",
    "        X : n input vectors of d dimensions (nxd)\n",
    "        Y : n labels (-1 or +1) (nx1)\n",
    "\n",
    "    Output:\n",
    "        pos: probability p(y=1)\n",
    "        neg: probability p(y=-1)\n",
    "    \"\"\"\n",
    "    \n",
    "    # add one positive and negative example to avoid division by zero (\"plus-one smoothing\")\n",
    "    Y = np.concatenate([Y, [-1,1]])\n",
    "    unique_labels = sorted(np.unique(Y), reverse=True)\n",
    "    return [np.mean(Y==label) for label in unique_labels]\n",
    "\n",
    "pos, neg = naivebayesPY(X,Y)"
   ]
  },
  {
   "cell_type": "code",
   "execution_count": null,
   "metadata": {
    "deletable": false,
    "editable": false,
    "nbgrader": {
     "checksum": "3ad64279c8083464fc0e0d22d99bd65f",
     "grade": false,
     "grade_id": "cell-naivesbayesPY_selftest",
     "locked": true,
     "schema_version": 1,
     "solution": false
    }
   },
   "outputs": [
    {
     "name": "stdout",
     "output_type": "stream",
     "text": [
      "Running Test: naivebayesPY_test1 ... ✔ Passed!\n",
      "Running Test: naivebayesPY_test2 ... ✔ Passed!\n",
      "Running Test: naivebayesPY_test3 ... ✔ Passed!\n",
      "Running Test: naivebayesPY_test4 ... ✔ Passed!\n"
     ]
    }
   ],
   "source": [
    "# The following tests will check that the probabilities returned by your function sum to 1 (test1) and return the correct probabilities for a given set of input vectors (tests 2-4)\n",
    "\n",
    "# Check that probabilities sum to 1\n",
    "def naivebayesPY_test1():\n",
    "    pos, neg = naivebayesPY(X,Y)\n",
    "    return np.linalg.norm(pos + neg - 1) < 1e-5\n",
    "\n",
    "# Test the Naive Bayes PY function on a simple example\n",
    "def naivebayesPY_test2():\n",
    "    x = np.array([[0,1],[1,0]])\n",
    "    y = np.array([-1,1])\n",
    "    pos, neg = naivebayesPY(x,y)\n",
    "    pos0, neg0 = .5, .5\n",
    "    test = np.linalg.norm(pos - pos0) + np.linalg.norm(neg - neg0)\n",
    "    return test < 1e-5\n",
    "\n",
    "# Test the Naive Bayes PY function on another example\n",
    "def naivebayesPY_test3():\n",
    "        x = np.array([[0,1,1,0,1],\n",
    "            [1,0,0,1,0],\n",
    "            [1,1,1,1,0],\n",
    "            [0,1,1,0,1],\n",
    "            [1,0,1,0,0],\n",
    "            [0,0,1,0,0],\n",
    "            [1,1,1,0,1]])    \n",
    "        y = np.array([1,-1, 1, 1,-1,-1, 1])\n",
    "        pos, neg = naivebayesPY(x,y)\n",
    "        pos0, neg0 = 5/9., 4/9.\n",
    "        test = np.linalg.norm(pos - pos0) + np.linalg.norm(neg - neg0)\n",
    "        return test < 1e-5\n",
    "\n",
    "# Tests plus-one smoothing\n",
    "def naivebayesPY_test4():\n",
    "    x = np.array([[0,1,1,0,1],[1,0,0,1,0]])    \n",
    "    y = np.array([1,1])\n",
    "    pos, neg = naivebayesPY(x,y)\n",
    "    pos0, neg0 = 3/4., 1/4.\n",
    "    test = np.linalg.norm(pos - pos0) + np.linalg.norm(neg - neg0)\n",
    "    return test < 1e-5    \n",
    "        \n",
    "    \n",
    "runtest(naivebayesPY_test1, 'naivebayesPY_test1')\n",
    "runtest(naivebayesPY_test2,'naivebayesPY_test2')\n",
    "runtest(naivebayesPY_test3,'naivebayesPY_test3')\n",
    "runtest(naivebayesPY_test4,'naivebayesPY_test4')"
   ]
  },
  {
   "cell_type": "code",
   "execution_count": 8,
   "metadata": {
    "deletable": false,
    "editable": false,
    "nbgrader": {
     "checksum": "964c72fde229f07781679822f65734ea",
     "grade": true,
     "grade_id": "cell-naivebayesPY_test1",
     "locked": true,
     "points": 1,
     "schema_version": 1,
     "solution": false
    }
   },
   "outputs": [],
   "source": [
    "# Autograder test cell- worth 1 point\n",
    "# runs naivebayesPY_test1"
   ]
  },
  {
   "cell_type": "code",
   "execution_count": 9,
   "metadata": {
    "deletable": false,
    "editable": false,
    "nbgrader": {
     "checksum": "536a6eeacc70274da0feee0a82924f65",
     "grade": true,
     "grade_id": "cell-naivebayesPY_test2",
     "locked": true,
     "points": 1,
     "schema_version": 1,
     "solution": false
    }
   },
   "outputs": [],
   "source": [
    "# Autograder test cell- worth 1 points\n",
    "# runs naivebayesPY_test2"
   ]
  },
  {
   "cell_type": "code",
   "execution_count": 10,
   "metadata": {
    "deletable": false,
    "editable": false,
    "nbgrader": {
     "checksum": "f57c19b68e46eae2363082b343c025cd",
     "grade": true,
     "grade_id": "cell-naivebayesPY_test3",
     "locked": true,
     "points": 1,
     "schema_version": 1,
     "solution": false
    }
   },
   "outputs": [],
   "source": [
    "# Autograder test cell- worth 1 points\n",
    "# runs naivebayesPY_test3"
   ]
  },
  {
   "cell_type": "code",
   "execution_count": 11,
   "metadata": {
    "deletable": false,
    "editable": false,
    "nbgrader": {
     "checksum": "722c795ad12b379a2a7f766f8e8a85a8",
     "grade": true,
     "grade_id": "cell-naivebayesPY_test4",
     "locked": true,
     "points": 1,
     "schema_version": 1,
     "solution": false
    }
   },
   "outputs": [],
   "source": [
    "# Autograder test cell- worth 1 points\n",
    "# runs naivebayesPY_test4"
   ]
  },
  {
   "cell_type": "markdown",
   "metadata": {
    "deletable": false,
    "editable": false,
    "nbgrader": {
     "checksum": "92556d6a657de6b831a6ff25e47bb921",
     "grade": false,
     "grade_id": "cell-e3d763d037cc430a",
     "locked": true,
     "schema_version": 1,
     "solution": false
    }
   },
   "source": [
    "<h3>Part Two: Conditional Probability [Graded]</h3>\n",
    "<p>Estimate the conditional probabilities $P([\\mathbf{x}]_{\\alpha}|y)$ in \n",
    "<b><code>naivebayesPXY</code></b>. Notice that by construction, our features are binary categorical features. Use a <b>categorical</b> distribution as model and return the probability vectors for each feature being 1 given a class label.  Note that the result will be two vectors of length d (the number of features), where the values represent the probability that feature i is equal to 1.\n",
    "</p> "
   ]
  },
  {
   "cell_type": "code",
   "execution_count": 12,
   "metadata": {
    "deletable": false,
    "nbgrader": {
     "checksum": "16643b0595cc048eeda2613d8e14ec25",
     "grade": false,
     "grade_id": "cell-naivebayesPXY",
     "locked": false,
     "schema_version": 1,
     "solution": true
    }
   },
   "outputs": [],
   "source": [
    "def naivebayesPXY(X,Y):\n",
    "    \"\"\"\n",
    "    naivebayesPXY(X, Y) returns [posprob,negprob]\n",
    "    \n",
    "    Input:\n",
    "        X : n input vectors of d dimensions (nxd)\n",
    "        Y : n labels (-1 or +1) (n)\n",
    "    \n",
    "    Output:\n",
    "        posprob: probability vector of p(x_alpha = 1|y=1)  (d)\n",
    "        negprob: probability vector of p(x_alpha = 1|y=-1) (d)\n",
    "    \"\"\"\n",
    "    \n",
    "    # add one positive and negative example to avoid division by zero (\"plus-one smoothing\")\n",
    "    n, d = X.shape\n",
    "    X = np.concatenate([X, np.ones((2,d)), np.zeros((2,d))])\n",
    "    Y = np.concatenate([Y, [-1,1,-1,1]])\n",
    "    unique_labels = sorted(np.unique(Y), reverse=True)\n",
    "    data_by_label = [X[np.where(Y==c),:] for c in unique_labels]\n",
    "    return [np.mean(data, axis=1).reshape((d,)) for data in data_by_label]\n",
    "\n",
    "posprob, negprob = naivebayesPXY(X,Y)"
   ]
  },
  {
   "cell_type": "code",
   "execution_count": 13,
   "metadata": {
    "deletable": false,
    "editable": false,
    "nbgrader": {
     "checksum": "b2ad4dd249f308e1d9f9a1426bedd3ca",
     "grade": false,
     "grade_id": "cell-naivebayesPXY_selftest",
     "locked": true,
     "schema_version": 1,
     "solution": false
    }
   },
   "outputs": [
    {
     "name": "stdout",
     "output_type": "stream",
     "text": [
      "Running Test: naivebayesPXY_test1 ... ✔ Passed!\n",
      "Running Test: naivebayesPXY_test2 ... ✔ Passed!\n",
      "Running Test: naivebayesPXY_test3 ... ✔ Passed!\n",
      "Running Test: naivebayesPXY_test4 ... ✔ Passed!\n"
     ]
    }
   ],
   "source": [
    "# The following tests check that your implementation of naivebayesPXY returns the same posterior probabilities as the correct implementation, in the correct dimensions\n",
    "\n",
    "# test a simple toy example with two points (one positive, one negative)\n",
    "def naivebayesPXY_test1():\n",
    "    x = np.array([[0,1],[1,0]])\n",
    "    y = np.array([-1,1])\n",
    "    pos, neg = naivebayesPXY(x,y)\n",
    "    pos0, neg0 = naivebayesPXY_grader(x,y)\n",
    "    test = np.linalg.norm(pos - pos0) + np.linalg.norm(neg - neg0)\n",
    "    return test < 1e-5\n",
    "\n",
    "# test the probabilities P(X|Y=+1)\n",
    "def naivebayesPXY_test2():\n",
    "    pos, neg = naivebayesPXY(X,Y)\n",
    "    posprobXY, negprobXY = naivebayesPXY_grader(X, Y)\n",
    "    test = np.linalg.norm(pos - posprobXY) \n",
    "    return test < 1e-5\n",
    "\n",
    "# test the probabilities P(X|Y=-1)\n",
    "def naivebayesPXY_test3():\n",
    "    pos, neg = naivebayesPXY(X,Y)\n",
    "    posprobXY, negprobXY = naivebayesPXY_grader(X, Y)\n",
    "    test = np.linalg.norm(neg - negprobXY)\n",
    "    return test < 1e-5\n",
    "\n",
    "\n",
    "# Check that the dimensions of the posterior probabilities are correct\n",
    "def naivebayesPXY_test4():\n",
    "    pos, neg = naivebayesPXY(X,Y)\n",
    "    posprobXY, negprobXY = naivebayesPXY_grader(X, Y)\n",
    "    return pos.shape == posprobXY.shape and neg.shape == negprobXY.shape\n",
    "\n",
    "runtest(naivebayesPXY_test1,'naivebayesPXY_test1')\n",
    "runtest(naivebayesPXY_test2,'naivebayesPXY_test2')\n",
    "runtest(naivebayesPXY_test3,'naivebayesPXY_test3')\n",
    "runtest(naivebayesPXY_test4,'naivebayesPXY_test4')"
   ]
  },
  {
   "cell_type": "code",
   "execution_count": 14,
   "metadata": {
    "deletable": false,
    "editable": false,
    "nbgrader": {
     "checksum": "651de8c597b6785e55dfac8f8e7a089b",
     "grade": true,
     "grade_id": "cell-naivebayesPXY_test1",
     "locked": true,
     "points": 1,
     "schema_version": 1,
     "solution": false
    }
   },
   "outputs": [],
   "source": [
    "# Autograder test cell- worth 1 point\n",
    "# runs naivebayesPXY_test1"
   ]
  },
  {
   "cell_type": "code",
   "execution_count": 15,
   "metadata": {
    "deletable": false,
    "editable": false,
    "nbgrader": {
     "checksum": "0ae5fd07a6710a7ad48a81e3c234ddeb",
     "grade": true,
     "grade_id": "cell-naivebayesPXY_test2",
     "locked": true,
     "points": 1,
     "schema_version": 1,
     "solution": false
    }
   },
   "outputs": [],
   "source": [
    "# Autograder test cell- worth 1 point\n",
    "# runs naivebayesPXY_test2"
   ]
  },
  {
   "cell_type": "code",
   "execution_count": 16,
   "metadata": {
    "deletable": false,
    "editable": false,
    "nbgrader": {
     "checksum": "903fb3289647293088a4adf63da61327",
     "grade": true,
     "grade_id": "cell-naivebayesPXY_test3",
     "locked": true,
     "points": 1,
     "schema_version": 1,
     "solution": false
    }
   },
   "outputs": [],
   "source": [
    "# Autograder test cell- worth 1 point\n",
    "# runs naivebayesPXY_test3"
   ]
  },
  {
   "cell_type": "code",
   "execution_count": 17,
   "metadata": {
    "deletable": false,
    "editable": false,
    "nbgrader": {
     "checksum": "6d1d44639e06e7ae390d7fd67b597352",
     "grade": true,
     "grade_id": "cell-naivebayesPXY_test4",
     "locked": true,
     "points": 1,
     "schema_version": 1,
     "solution": false
    }
   },
   "outputs": [],
   "source": [
    "# Autograder test cell- worth 1 point\n",
    "# runs naivebayesPXY_test4"
   ]
  },
  {
   "cell_type": "markdown",
   "metadata": {
    "deletable": false,
    "editable": false,
    "nbgrader": {
     "checksum": "04955830c69bbd778338d8cd362fa6f3",
     "grade": false,
     "grade_id": "cell-718eb20a3bd07d46",
     "locked": true,
     "schema_version": 1,
     "solution": false
    }
   },
   "source": [
    "<h3>Part Three: Log Lokelihood [Graded]</h3>\n",
    "\n",
    "<i>\n",
    "<p>Calculate the log likelihood $\\log P(\\mathbf{x}|y)$ for each point in X_test in \n",
    "<b><code>loglikelihood</code></b> and label Y_test. Recall that the likelihood is given by the product of the conditional probabilities of each feature and that $\\log(ab) = \\log a + \\log b$.\n",
    "</p> \n",
    "<i>"
   ]
  },
  {
   "cell_type": "code",
   "execution_count": 18,
   "metadata": {
    "deletable": false,
    "nbgrader": {
     "checksum": "1db38bb538470522ee352acbfbacf359",
     "grade": false,
     "grade_id": "cell-loglikelihood",
     "locked": false,
     "schema_version": 1,
     "solution": true
    }
   },
   "outputs": [
    {
     "data": {
      "text/plain": [
       "array([-14.13576665, -22.5798063 , -17.58006748, ..., -13.84056451,\n",
       "       -22.25984999, -20.29407697])"
      ]
     },
     "execution_count": 18,
     "metadata": {},
     "output_type": "execute_result"
    }
   ],
   "source": [
    "def loglikelihood(posprob, negprob, X_test, Y_test):\n",
    "    \"\"\"\n",
    "    loglikelihood(posprob, negprob, X_test, Y_test) returns loglikelihood of each point in X_test\n",
    "    \n",
    "    Input:\n",
    "        posprob: conditional probabilities for the positive class (d)\n",
    "        negprob: conditional probabilities for the negative class (d)\n",
    "        X_test : features (nxd)\n",
    "        Y_test : labels (-1 or +1) (n)\n",
    "    \n",
    "    Output:\n",
    "        loglikelihood of each point in X_test (n)\n",
    "    \"\"\"\n",
    "    n, d = X_test.shape\n",
    "    loglikelihood = np.zeros(n)\n",
    "    log_pos = np.log(posprob)\n",
    "    log_pos_comp = np.log(1-posprob)\n",
    "    log_neg = np.log(negprob)\n",
    "    log_neg_comp = np.log(1-negprob)\n",
    "    \n",
    "    for i in range(n):\n",
    "        if Y_test[i] == 1:\n",
    "            loglikelihood[i] = np.sum(X_test[i]*log_pos + (1-X_test[i])*log_pos_comp)\n",
    "        if Y_test[i] == -1:\n",
    "            loglikelihood[i] = np.sum(X_test[i]*log_neg + (1-X_test[i])*log_neg_comp)\n",
    "            \n",
    "    return loglikelihood\n",
    "\n",
    "# compute the loglikelihood of the training set\n",
    "posprob, negprob = naivebayesPXY(X,Y)\n",
    "loglikelihood(posprob,negprob,X,Y)"
   ]
  },
  {
   "cell_type": "code",
   "execution_count": 19,
   "metadata": {
    "deletable": false,
    "editable": false,
    "nbgrader": {
     "checksum": "fb2580b764e911661a2da4c5899021d8",
     "grade": false,
     "grade_id": "cell-loglikelihood_selftest",
     "locked": true,
     "schema_version": 1,
     "solution": false
    }
   },
   "outputs": [
    {
     "name": "stdout",
     "output_type": "stream",
     "text": [
      "Running Test: loglikelihood_testneg (all log likelihoods must be negative) ... ✔ Passed!\n",
      "Running Test: loglikelihood_test0 (training data) ... ✔ Passed!\n",
      "Running Test: loglikelihood_test0a (positive points) ... ✔ Passed!\n",
      "Running Test: loglikelihood_test0b (negative points) ... ✔ Passed!\n",
      "Running Test: loglikelihood_test1 ... ✔ Passed!\n",
      "Running Test: loglikelihood_test2 ... ✔ Passed!\n",
      "Running Test: loglikelihood_test3 ... ✔ Passed!\n"
     ]
    }
   ],
   "source": [
    "# The following tests check that your implementation of loglikelihood returns the same values as the correct implementation for three different datasets\n",
    "\n",
    "X, Y = genTrainFeatures(128)\n",
    "posprobXY, negprobXY = naivebayesPXY_grader(X, Y)\n",
    "\n",
    "# test if the log likelihood of the training data are all negative\n",
    "def loglikelihood_testneg():\n",
    "    ll=loglikelihood(posprob,negprob,X,Y);\n",
    "    return all(ll<0)\n",
    "\n",
    "# test if the log likelihood of the training data matches the solution\n",
    "def loglikelihood_test0():\n",
    "    ll=loglikelihood(posprob,negprob,X,Y);\n",
    "    llgrader=loglikelihood_grader(posprob,negprob,X,Y);\n",
    "    return np.linalg.norm(ll-llgrader)<1e-5\n",
    "\n",
    "# test if the log likelihood of the training data matches the solution\n",
    "# (positive points only)\n",
    "def loglikelihood_test0a():\n",
    "    ll=loglikelihood(posprob,negprob,X,Y);\n",
    "    llgrader=loglikelihood_grader(posprob,negprob,X,Y);\n",
    "    return np.linalg.norm(ll[Y==1]-llgrader[Y==1])<1e-5\n",
    "\n",
    "# test if the log likelihood of the training data matches the solution\n",
    "# (negative points only)\n",
    "def loglikelihood_test0b():\n",
    "    ll=loglikelihood(posprob,negprob,X,Y);\n",
    "    llgrader=loglikelihood_grader(posprob,negprob,X,Y);\n",
    "    return np.linalg.norm(ll[Y==-1]-llgrader[Y==-1])<1e-5\n",
    "\n",
    "\n",
    "# little toy example with two data points (1 positive, 1 negative)\n",
    "def loglikelihood_test1():\n",
    "    x = np.array([[0,1],[1,0]])\n",
    "    y = np.array([-1,1])\n",
    "    posprobXY, negprobXY = naivebayesPXY_grader(X, Y)\n",
    "    loglike = loglikelihood(posprobXY[:2], negprobXY[:2], x, y)\n",
    "    loglike0 = loglikelihood_grader(posprobXY[:2], negprobXY[:2], x, y)\n",
    "    test = np.linalg.norm(loglike - loglike0)\n",
    "    return test < 1e-5\n",
    "\n",
    "# little toy example with four data points (2 positive, 2 negative)\n",
    "def loglikelihood_test2():\n",
    "    x = np.array([[1,0,1,0,1,1], \n",
    "        [0,0,1,0,1,1], \n",
    "        [1,0,0,1,1,1], \n",
    "        [1,1,0,0,1,1]])\n",
    "    y = np.array([-1,1,1,-1])\n",
    "    posprobXY, negprobXY = naivebayesPXY_grader(X, Y)\n",
    "    loglike = loglikelihood(posprobXY[:6], negprobXY[:6], x, y)\n",
    "    loglike0 = loglikelihood_grader(posprobXY[:6], negprobXY[:6], x, y)\n",
    "    test = np.linalg.norm(loglike - loglike0)\n",
    "    return test < 1e-5\n",
    "\n",
    "\n",
    "# one more toy example with 5 positive and 2 negative points\n",
    "def loglikelihood_test3():\n",
    "    x = np.array([[1,1,1,1,1,1], \n",
    "        [0,0,1,0,0,0], \n",
    "        [1,1,0,1,1,1], \n",
    "        [0,1,0,0,0,1], \n",
    "        [0,1,1,0,1,1], \n",
    "        [1,0,0,0,0,1], \n",
    "        [0,1,1,0,1,1]])\n",
    "    y = np.array([1, 1, 1 ,1,-1,-1, 1])\n",
    "    posprobXY, negprobXY = naivebayesPXY_grader(X, Y)\n",
    "    loglike = loglikelihood(posprobXY[:6], negprobXY[:6], x, y)\n",
    "    loglike0 = loglikelihood_grader(posprobXY[:6], negprobXY[:6], x, y)\n",
    "    test = np.linalg.norm(loglike - loglike0)\n",
    "    return test < 1e-5\n",
    "\n",
    "\n",
    "runtest(loglikelihood_testneg, 'loglikelihood_testneg (all log likelihoods must be negative)')\n",
    "runtest(loglikelihood_test0, 'loglikelihood_test0 (training data)')\n",
    "runtest(loglikelihood_test0a, 'loglikelihood_test0a (positive points)')\n",
    "runtest(loglikelihood_test0b, 'loglikelihood_test0b (negative points)')\n",
    "runtest(loglikelihood_test1, 'loglikelihood_test1')\n",
    "runtest(loglikelihood_test2, 'loglikelihood_test2')\n",
    "runtest(loglikelihood_test3, 'loglikelihood_test3')"
   ]
  },
  {
   "cell_type": "code",
   "execution_count": 20,
   "metadata": {
    "deletable": false,
    "editable": false,
    "nbgrader": {
     "checksum": "fcc3fc6ac18a9b4f592168cc53db80c4",
     "grade": true,
     "grade_id": "cell-loglikelihood_testneg",
     "locked": true,
     "points": 1,
     "schema_version": 1,
     "solution": false
    }
   },
   "outputs": [],
   "source": [
    "# Autograder test cell- worth 1 point\n",
    "# runs loglikelihood_testneg"
   ]
  },
  {
   "cell_type": "code",
   "execution_count": 21,
   "metadata": {
    "deletable": false,
    "editable": false,
    "nbgrader": {
     "checksum": "ee1bf86fd00bd32f6aca0e614236fba8",
     "grade": true,
     "grade_id": "cell-loglikelihood_test0",
     "locked": true,
     "points": 1,
     "schema_version": 1,
     "solution": false
    }
   },
   "outputs": [],
   "source": [
    "# Autograder test cell- worth 1 point\n",
    "# runs loglikelihood_test0"
   ]
  },
  {
   "cell_type": "code",
   "execution_count": 22,
   "metadata": {
    "deletable": false,
    "editable": false,
    "nbgrader": {
     "checksum": "eb10671977a73204260b6837d7d497b0",
     "grade": true,
     "grade_id": "cell-loglikelihood_test0a",
     "locked": true,
     "points": 1,
     "schema_version": 1,
     "solution": false
    }
   },
   "outputs": [],
   "source": [
    "# Autograder test cell- worth 1 point\n",
    "# runs loglikelihood_test0a"
   ]
  },
  {
   "cell_type": "code",
   "execution_count": 23,
   "metadata": {
    "deletable": false,
    "editable": false,
    "nbgrader": {
     "checksum": "85783e07b286db379342e688fd2ee930",
     "grade": true,
     "grade_id": "cell-loglikelihood_test0b",
     "locked": true,
     "points": 1,
     "schema_version": 1,
     "solution": false
    }
   },
   "outputs": [],
   "source": [
    "# Autograder test cell- worth 1 point\n",
    "# runs loglikelihood_test0b"
   ]
  },
  {
   "cell_type": "code",
   "execution_count": 24,
   "metadata": {
    "deletable": false,
    "editable": false,
    "nbgrader": {
     "checksum": "a261168ecd0d7c48ea6cdccc5aea8dc0",
     "grade": true,
     "grade_id": "cell-loglikelihood_test1",
     "locked": true,
     "points": 1,
     "schema_version": 1,
     "solution": false
    }
   },
   "outputs": [],
   "source": [
    "# Autograder test cell- worth 1 point\n",
    "# runs loglikelihood_test1"
   ]
  },
  {
   "cell_type": "code",
   "execution_count": 25,
   "metadata": {
    "deletable": false,
    "editable": false,
    "nbgrader": {
     "checksum": "960212edfdba8e50f4292e4762d62d06",
     "grade": true,
     "grade_id": "cell-loglikelihood_test2",
     "locked": true,
     "points": 1,
     "schema_version": 1,
     "solution": false
    }
   },
   "outputs": [],
   "source": [
    "# Autograder test cell- worth 1 point\n",
    "# runs loglikelihood_test2"
   ]
  },
  {
   "cell_type": "code",
   "execution_count": 26,
   "metadata": {
    "deletable": false,
    "editable": false,
    "nbgrader": {
     "checksum": "b58ba19756e70c2717a1f1b15d11bbd9",
     "grade": true,
     "grade_id": "cell-loglikelihood_test3",
     "locked": true,
     "points": 1,
     "schema_version": 1,
     "solution": false
    }
   },
   "outputs": [],
   "source": [
    "# Autograder test cell- worth 1 point\n",
    "# runs loglikelihood_test3"
   ]
  },
  {
   "cell_type": "markdown",
   "metadata": {
    "deletable": false,
    "editable": false,
    "nbgrader": {
     "checksum": "7b077b79206b3d18b78c952cb4b76fd4",
     "grade": false,
     "grade_id": "cell-939ef69834417c3a",
     "locked": true,
     "schema_version": 1,
     "solution": false
    }
   },
   "source": [
    "<h3>Part Four: Naive Bayes Prediction [Graded]</h3>\n",
    "\n",
    "\n",
    "<p>Observe that for a test point $\\mathbf{x}_{test}$, we should classify it as positive if the log ratio $\\log\\left(\\frac{P(y=1 | \\mathbf{x} = \\mathbf{x}_{test})}{P(y=-1|\\mathbf{x} = \\mathbf{x}_{test})}\\right) > 0$ and negative otherwise. Implement the <b><code>naivebayes_pred</code></b> by first calculating the log ratio $\\log\\left(\\frac{P(y=1 | \\mathbf{x} = \\mathbf{x}_{test})}{P(y=-1|\\mathbf{x} = \\mathbf{x}_{test})}\\right)$ for each test point in $\\mathbf{x}_{test}$ using Bayes' rule and predict the label of the test points by looking at the log ratio. When calculating the log likelihood, think carefully how you can use the fact $\\log \\left(\\frac{a}{b}\\right) = \\log{a} - \\log{b}$ to simplify your calculations.\n",
    "</p>\n",
    "\n",
    "\n"
   ]
  },
  {
   "cell_type": "code",
   "execution_count": 27,
   "metadata": {
    "deletable": false,
    "nbgrader": {
     "checksum": "7e74c5b2b25acdb08dd6b3b2ce1a8d35",
     "grade": false,
     "grade_id": "cell-naivebayes_pred",
     "locked": false,
     "schema_version": 1,
     "solution": true
    }
   },
   "outputs": [],
   "source": [
    "def naivebayes_pred(pos, neg, posprob, negprob, X_test):\n",
    "    \"\"\"\n",
    "    naivebayes_pred(pos, neg, posprob, negprob, X_test) returns the prediction of each point in X_test\n",
    "    \n",
    "    Input:\n",
    "        pos: class probability for the negative class\n",
    "        neg: class probability for the positive class\n",
    "        posprob: conditional probabilities for the positive class (d)\n",
    "        negprob: conditional probabilities for the negative class (d)\n",
    "        X_test : features (nxd)\n",
    "    \n",
    "    Output:\n",
    "        prediction of each point in X_test (n)\n",
    "    \"\"\"\n",
    "    n, d = X_test.shape\n",
    "    pred = loglikelihood(posprob, negprob, X_test, np.ones(n)) -  loglikelihood(posprob, negprob, X_test, -np.ones(n)) + np.log(pos) - np.log(neg)\n",
    "    return np.array([1 if p > 0 else -1 for p in pred])"
   ]
  },
  {
   "cell_type": "code",
   "execution_count": 28,
   "metadata": {
    "deletable": false,
    "editable": false,
    "nbgrader": {
     "checksum": "ecf41d775549f35cb5cf625383fe480b",
     "grade": false,
     "grade_id": "cell-naivebayes_pred_selftest",
     "locked": true,
     "schema_version": 1,
     "solution": false
    }
   },
   "outputs": [
    {
     "name": "stdout",
     "output_type": "stream",
     "text": [
      "Running Test: naivebayes_pred_test1 ... ✔ Passed!\n",
      "Running Test: naivebayes_pred_test2 ... ✔ Passed!\n",
      "Running Test: naivebayes_pred_test3 ... ✔ Passed!\n",
      "Running Test: naivebayes_pred_test4 ... ✔ Passed!\n"
     ]
    }
   ],
   "source": [
    "# The following tests check that your implementation of naivebayes_pred returns only 1s and -1s (test 1), and that it returns the same predicted values as the correct implementation for three different datasets (tests 2-4)\n",
    "\n",
    "X,Y = genTrainFeatures_grader(128)\n",
    "posY, negY = naivebayesPY_grader(X, Y)\n",
    "\n",
    "# check whether the predictions are +1 or neg 1\n",
    "def naivebayes_pred_test1():\n",
    "    preds = naivebayes_pred(posY, negY, posprobXY, negprobXY, X)\n",
    "    return np.all(np.logical_or(preds == -1 , preds == 1))\n",
    "\n",
    "def naivebayes_pred_test2():\n",
    "    naivebayesPXY_grader(X, Y)\n",
    "    x_test = np.array([[0,1],[1,0]])\n",
    "    preds = naivebayes_pred_grader(posY, negY, posprobXY[:2], negprobXY[:2], x_test)\n",
    "    student_preds = naivebayes_pred(posY, negY, posprobXY[:2], negprobXY[:2], x_test)\n",
    "    acc = analyze_grader(\"acc\", preds, student_preds)\n",
    "    return np.abs(acc - 1) < 1e-5\n",
    "\n",
    "def naivebayes_pred_test3():\n",
    "    x_test = np.array([[1,0,1,0,1,1], \n",
    "        [0,0,1,0,1,1], \n",
    "        [1,0,0,1,1,1], \n",
    "        [1,1,0,0,1,1]])\n",
    "    naivebayesPXY_grader(X, Y)\n",
    "    preds = naivebayes_pred_grader(posY, negY, posprobXY[:6], negprobXY[:6], x_test)\n",
    "    student_preds = naivebayes_pred(posY, negY, posprobXY[:6], negprobXY[:6], x_test)\n",
    "    acc = analyze_grader(\"acc\", preds, student_preds)\n",
    "    return np.abs(acc - 1) < 1e-5\n",
    "\n",
    "def naivebayes_pred_test4():\n",
    "    x_test = np.array([[1,1,1,1,1,1], \n",
    "        [0,0,1,0,0,0], \n",
    "        [1,1,0,1,1,1], \n",
    "        [0,1,0,0,0,1], \n",
    "        [0,1,1,0,1,1], \n",
    "        [1,0,0,0,0,1], \n",
    "        [0,1,1,0,1,1]])\n",
    "    naivebayesPXY_grader(X, Y)\n",
    "    preds = naivebayes_pred_grader(posY, negY, posprobXY[:6], negprobXY[:6], x_test)\n",
    "    student_preds = naivebayes_pred(posY, negY, posprobXY[:6], negprobXY[:6], x_test)\n",
    "    acc = analyze_grader(\"acc\", preds, student_preds)\n",
    "    return np.abs(acc - 1) < 1e-5\n",
    "\n",
    "runtest(naivebayes_pred_test1, 'naivebayes_pred_test1')\n",
    "runtest(naivebayes_pred_test2, 'naivebayes_pred_test2')\n",
    "runtest(naivebayes_pred_test3, 'naivebayes_pred_test3')\n",
    "runtest(naivebayes_pred_test4, 'naivebayes_pred_test4')"
   ]
  },
  {
   "cell_type": "code",
   "execution_count": 29,
   "metadata": {
    "deletable": false,
    "editable": false,
    "nbgrader": {
     "checksum": "bdbe6d2416d1c1a25e390e25b9a84218",
     "grade": true,
     "grade_id": "cell-naivebayes_pred_test1",
     "locked": true,
     "points": 1,
     "schema_version": 1,
     "solution": false
    }
   },
   "outputs": [],
   "source": [
    "# Autograder test cell- worth 1 point\n",
    "# runs naivebayes_pred_test1"
   ]
  },
  {
   "cell_type": "code",
   "execution_count": 30,
   "metadata": {
    "deletable": false,
    "editable": false,
    "nbgrader": {
     "checksum": "9b2a021174acbfa76bf9ce80d8f06c9a",
     "grade": true,
     "grade_id": "cell-naivebayes_pred_test2",
     "locked": true,
     "points": 1,
     "schema_version": 1,
     "solution": false
    }
   },
   "outputs": [],
   "source": [
    "# Autograder test cell- worth 1 point\n",
    "# runs naivebayes_pred_test2\n"
   ]
  },
  {
   "cell_type": "code",
   "execution_count": 31,
   "metadata": {
    "deletable": false,
    "editable": false,
    "nbgrader": {
     "checksum": "824453cd4512ad1391e3d43e8358a5eb",
     "grade": true,
     "grade_id": "cell-naivebayes_pred_test3",
     "locked": true,
     "points": 1,
     "schema_version": 1,
     "solution": false
    }
   },
   "outputs": [],
   "source": [
    "# Autograder test cell- worth 1 points\n",
    "# runs naivebayes_pred_test3"
   ]
  },
  {
   "cell_type": "code",
   "execution_count": 32,
   "metadata": {
    "deletable": false,
    "editable": false,
    "nbgrader": {
     "checksum": "48e6de484c268d278e1238a06ba3a065",
     "grade": true,
     "grade_id": "cell-naivebayes_pred_test4",
     "locked": true,
     "points": 1,
     "schema_version": 1,
     "solution": false
    }
   },
   "outputs": [],
   "source": [
    "# Autograder test cell- worth 1 points\n",
    "# runs naivebayes_pred_test4\n"
   ]
  },
  {
   "cell_type": "markdown",
   "metadata": {
    "deletable": false,
    "editable": false,
    "nbgrader": {
     "checksum": "47abd4ba6ad4cb0f1c6446cd6c46afbd",
     "grade": false,
     "grade_id": "cell-d31d3867bef12ca7",
     "locked": true,
     "schema_version": 1,
     "solution": false
    }
   },
   "source": [
    "You can now test your code with the following interactive name classification script:"
   ]
  },
  {
   "cell_type": "code",
   "execution_count": 33,
   "metadata": {
    "deletable": false,
    "editable": false,
    "nbgrader": {
     "checksum": "f54bd93d468d1ac66303ad42f1b34a50",
     "grade": false,
     "grade_id": "cell-a53cd34f0d01fec0",
     "locked": true,
     "schema_version": 1,
     "solution": false
    }
   },
   "outputs": [
    {
     "name": "stdout",
     "output_type": "stream",
     "text": [
      "Loading data ...\n",
      "Training classifier ...\n",
      "Training error: 20.67%\n",
      "Please enter a baby name>\n",
      "\n"
     ]
    }
   ],
   "source": [
    "DIMS = 128\n",
    "print('Loading data ...')\n",
    "X,Y = genTrainFeatures(DIMS)\n",
    "print('Training classifier ...')\n",
    "pos, neg = naivebayesPY(X, Y)\n",
    "posprob, negprob = naivebayesPXY(X, Y)\n",
    "error = np.mean(naivebayes_pred(pos, neg, posprob, negprob, X) != Y)\n",
    "print('Training error: %.2f%%' % (100 * error))\n",
    "\n",
    "while True:\n",
    "    print('Please enter a baby name>')\n",
    "    yourname = input()\n",
    "    if len(yourname) < 1:\n",
    "        break\n",
    "    xtest = name2features(yourname,B=DIMS,LoadFile=False)\n",
    "    pred = naivebayes_pred(pos, neg, posprob, negprob, xtest)\n",
    "    if pred > 0:\n",
    "        print(\"%s, I am sure you are a baby boy.\\n\" % yourname)\n",
    "    else:\n",
    "        print(\"%s, I am sure you are a baby girl.\\n\" % yourname)"
   ]
  },
  {
   "cell_type": "markdown",
   "metadata": {
    "deletable": false,
    "editable": false,
    "nbgrader": {
     "checksum": "f1409e2c79d1e167f8580cb9c75425d0",
     "grade": false,
     "grade_id": "cell-f42c92ce4c86ad4f",
     "locked": true,
     "schema_version": 1,
     "solution": false
    }
   },
   "source": [
    "<h2> Challenge: Feature Extraction</h2>\n",
    "\n",
    "<p>Let's test how well your Na&iuml;ve Bayes classifier performs on a secret test set. If you want to improve your classifier modify <code>name2features2</code> below.   The automatic reader will use your Python script to extract features and train your classifier on the same names training set by calling the function with only one argument--the name of a file containing a list of names.  The given implementation is the same as the given <code>name2features</code> above.\n",
    "</p>\n",
    "  "
   ]
  },
  {
   "cell_type": "code",
   "execution_count": 34,
   "metadata": {
    "deletable": false,
    "nbgrader": {
     "checksum": "9fc095ed9a14575bd8befe9d912b6881",
     "grade": false,
     "grade_id": "cell-name2features2",
     "locked": false,
     "schema_version": 1,
     "solution": true
    }
   },
   "outputs": [],
   "source": [
    "def hashfeatures(baby, B, FIX):\n",
    "    v = np.zeros(B)\n",
    "    for m in range(FIX):\n",
    "        featurestring = \"prefix\" + baby[:m]\n",
    "        v[hash(featurestring) % B] = 1\n",
    "        featurestring = \"suffix\" + baby[-1*m:]\n",
    "        v[hash(featurestring) % B] = 1\n",
    "    featurestring = \"consonants\" + (''.join(sorted(x for x in baby if x not in 'aeiou')).lower())\n",
    "    v[hash(featurestring) % B] = 1\n",
    "    featurestring = \"doubles\" + ''.join(sorted(p for p, q in zip(baby.lower(), baby.lower()[1:]) if p==q))\n",
    "    v[hash(featurestring) % B] = 1\n",
    "    return v\n",
    "\n",
    "def name2features2(filename, B=64, FIX=5, LoadFile=True):\n",
    "    \"\"\"\n",
    "    Output:\n",
    "        X : n feature vectors of dimension B, (nxB)\n",
    "    \"\"\"\n",
    "    # read in baby names\n",
    "    if LoadFile:\n",
    "        with open(filename, 'r') as f:\n",
    "            babynames = [x.rstrip() for x in f.readlines() if len(x) > 0]\n",
    "    else:\n",
    "        babynames = filename.split('\\n')\n",
    "    n = len(babynames)\n",
    "    X = np.zeros((n, B))\n",
    "    for i in range(n):\n",
    "        X[i,:] = hashfeatures(babynames[i], B, FIX)\n",
    "    return X"
   ]
  },
  {
   "cell_type": "code",
   "execution_count": 35,
   "metadata": {
    "deletable": false,
    "editable": false,
    "nbgrader": {
     "checksum": "c695128583171a2e74f4f37e6fb82451",
     "grade": true,
     "grade_id": "cell-competition_test",
     "locked": true,
     "points": 0,
     "schema_version": 1,
     "solution": false
    }
   },
   "outputs": [],
   "source": [
    "# Autograder test cell- competition"
   ]
  },
  {
   "cell_type": "markdown",
   "metadata": {},
   "source": [
    "(Hint: You should be able to get >80% accuracy just by changing some of the default hyperparameters in the function argument.  If you'd like to try something more sophisticated, you can add to `name2features2`)\n",
    "\n",
    "<h4>Credits</h4>\n",
    " The name classification idea originates from <a href=\"http://nickm.com\">Nick Montfort</a>."
   ]
  }
 ],
 "metadata": {
  "anaconda-cloud": {},
  "kernelspec": {
   "display_name": "Python 3",
   "language": "python",
   "name": "python3"
  },
  "language_info": {
   "codemirror_mode": {
    "name": "ipython",
    "version": 3
   },
   "file_extension": ".py",
   "mimetype": "text/x-python",
   "name": "python",
   "nbconvert_exporter": "python",
   "pygments_lexer": "ipython3",
   "version": "3.6.8"
  }
 },
 "nbformat": 4,
 "nbformat_minor": 1
}
